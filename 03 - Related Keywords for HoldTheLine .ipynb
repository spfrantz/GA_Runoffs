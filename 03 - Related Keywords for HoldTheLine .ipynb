{
 "cells": [
  {
   "cell_type": "code",
   "execution_count": 43,
   "metadata": {},
   "outputs": [],
   "source": [
    "import pandas as pd\n",
    "import numpy as np\n",
    "import nltk\n",
    "import nltk.corpus\n",
    "from nltk.corpus import stopwords\n",
    "stop_words = set(stopwords.words('english'))\n",
    "from nltk.tokenize import word_tokenize\n",
    "from nltk.probability import FreqDist\n",
    "from sklearn.feature_extraction.text import CountVectorizer, TfidfVectorizer, TfidfTransformer\n",
    "import pyodbc \n",
    "from sqlalchemy import create_engine\n",
    "import re\n",
    "import networkx as nx\n",
    "import matplotlib.pyplot as plt\n",
    "import string\n",
    "import pymongo"
   ]
  },
  {
   "cell_type": "code",
   "execution_count": 44,
   "metadata": {},
   "outputs": [
    {
     "name": "stderr",
     "output_type": "stream",
     "text": [
      "[nltk_data] Downloading package stopwords to /Users/sam/nltk_data...\n",
      "[nltk_data]   Package stopwords is already up-to-date!\n"
     ]
    }
   ],
   "source": [
    "nltk.download('stopwords')\n",
    "stop_words.add('amp')"
   ]
  },
  {
   "cell_type": "code",
   "execution_count": 45,
   "metadata": {},
   "outputs": [],
   "source": [
    "# Set up Mongo database connection\n",
    "client = pymongo.MongoClient()\n",
    "db = client['GA_Runoffs']\n",
    "\n",
    "# Create test userdata collection\n",
    "requested_accounts = db['requested_accounts']\n",
    "twitter_user_data = db['twitter_user_data']\n",
    "collected_tweets = db['collected_tweets']"
   ]
  },
  {
   "cell_type": "code",
   "execution_count": 46,
   "metadata": {},
   "outputs": [],
   "source": [
    "# Collect all posts with hashtag #demcastga\n",
    "\n",
    "tweets = db.collected_tweets.find({\"$text\": {\"$search\":\"#holdtheline\"}}, {'entities.hashtags.tag':1,\n",
    "                                                                              'category':1, 'username':1,\n",
    "                                                                              'created_at':1, 'text':1,\n",
    "                                                                            'author_id':1})"
   ]
  },
  {
   "cell_type": "code",
   "execution_count": 47,
   "metadata": {},
   "outputs": [],
   "source": [
    "htl_tweets = pd.DataFrame(list(tweets))"
   ]
  },
  {
   "cell_type": "code",
   "execution_count": 48,
   "metadata": {},
   "outputs": [
    {
     "data": {
      "text/plain": [
       "17173"
      ]
     },
     "execution_count": 48,
     "metadata": {},
     "output_type": "execute_result"
    }
   ],
   "source": [
    "len(htl_tweets)"
   ]
  },
  {
   "cell_type": "code",
   "execution_count": 49,
   "metadata": {},
   "outputs": [
    {
     "data": {
      "text/html": [
       "<div>\n",
       "<style scoped>\n",
       "    .dataframe tbody tr th:only-of-type {\n",
       "        vertical-align: middle;\n",
       "    }\n",
       "\n",
       "    .dataframe tbody tr th {\n",
       "        vertical-align: top;\n",
       "    }\n",
       "\n",
       "    .dataframe thead th {\n",
       "        text-align: right;\n",
       "    }\n",
       "</style>\n",
       "<table border=\"1\" class=\"dataframe\">\n",
       "  <thead>\n",
       "    <tr style=\"text-align: right;\">\n",
       "      <th></th>\n",
       "      <th>_id</th>\n",
       "      <th>author_id</th>\n",
       "      <th>created_at</th>\n",
       "      <th>entities</th>\n",
       "      <th>text</th>\n",
       "      <th>category</th>\n",
       "      <th>username</th>\n",
       "    </tr>\n",
       "  </thead>\n",
       "  <tbody>\n",
       "    <tr>\n",
       "      <td>0</td>\n",
       "      <td>5fee41e088da48afa84f82ba</td>\n",
       "      <td>1308745916325781511</td>\n",
       "      <td>2020-12-25T18:29:09.000Z</td>\n",
       "      <td>{'hashtags': [{'tag': 'HoldTheLine'}, {'tag': ...</td>\n",
       "      <td>#HoldTheLine #HoldTheLine #HoldTheLine https:/...</td>\n",
       "      <td>holdtheline_ecosystem</td>\n",
       "      <td>NaN</td>\n",
       "    </tr>\n",
       "    <tr>\n",
       "      <td>1</td>\n",
       "      <td>5ff36dce93c05a63bd7a48b9</td>\n",
       "      <td>1343699976887693318</td>\n",
       "      <td>2021-01-01T02:10:41.000Z</td>\n",
       "      <td>{'hashtags': [{'tag': 'HoldTheLine'}]}</td>\n",
       "      <td>#HoldTheLine</td>\n",
       "      <td>holdtheline_ecosystem</td>\n",
       "      <td>NaN</td>\n",
       "    </tr>\n",
       "    <tr>\n",
       "      <td>2</td>\n",
       "      <td>5ff36dbc93c05a63bd7a4605</td>\n",
       "      <td>909075262884732928</td>\n",
       "      <td>2021-01-01T14:07:05.000Z</td>\n",
       "      <td>{'hashtags': [{'tag': 'HoldTheLine'}]}</td>\n",
       "      <td>#HoldTheLine</td>\n",
       "      <td>holdtheline_ecosystem</td>\n",
       "      <td>NaN</td>\n",
       "    </tr>\n",
       "    <tr>\n",
       "      <td>3</td>\n",
       "      <td>5ff36db693c05a63bd7a454c</td>\n",
       "      <td>22784232</td>\n",
       "      <td>2021-01-01T16:41:36.000Z</td>\n",
       "      <td>{'hashtags': [{'tag': 'HoldTheLine'}]}</td>\n",
       "      <td>#HoldTheLine</td>\n",
       "      <td>holdtheline_ecosystem</td>\n",
       "      <td>NaN</td>\n",
       "    </tr>\n",
       "    <tr>\n",
       "      <td>4</td>\n",
       "      <td>5ff36da693c05a63bd7a42eb</td>\n",
       "      <td>1296140952902533120</td>\n",
       "      <td>2021-01-02T01:51:54.000Z</td>\n",
       "      <td>{'hashtags': [{'tag': 'HoldTheLine'}]}</td>\n",
       "      <td>#HoldTheLine</td>\n",
       "      <td>holdtheline_ecosystem</td>\n",
       "      <td>NaN</td>\n",
       "    </tr>\n",
       "  </tbody>\n",
       "</table>\n",
       "</div>"
      ],
      "text/plain": [
       "                        _id            author_id                created_at  \\\n",
       "0  5fee41e088da48afa84f82ba  1308745916325781511  2020-12-25T18:29:09.000Z   \n",
       "1  5ff36dce93c05a63bd7a48b9  1343699976887693318  2021-01-01T02:10:41.000Z   \n",
       "2  5ff36dbc93c05a63bd7a4605   909075262884732928  2021-01-01T14:07:05.000Z   \n",
       "3  5ff36db693c05a63bd7a454c             22784232  2021-01-01T16:41:36.000Z   \n",
       "4  5ff36da693c05a63bd7a42eb  1296140952902533120  2021-01-02T01:51:54.000Z   \n",
       "\n",
       "                                            entities  \\\n",
       "0  {'hashtags': [{'tag': 'HoldTheLine'}, {'tag': ...   \n",
       "1             {'hashtags': [{'tag': 'HoldTheLine'}]}   \n",
       "2             {'hashtags': [{'tag': 'HoldTheLine'}]}   \n",
       "3             {'hashtags': [{'tag': 'HoldTheLine'}]}   \n",
       "4             {'hashtags': [{'tag': 'HoldTheLine'}]}   \n",
       "\n",
       "                                                text               category  \\\n",
       "0  #HoldTheLine #HoldTheLine #HoldTheLine https:/...  holdtheline_ecosystem   \n",
       "1                                       #HoldTheLine  holdtheline_ecosystem   \n",
       "2                                       #HoldTheLine  holdtheline_ecosystem   \n",
       "3                                       #HoldTheLine  holdtheline_ecosystem   \n",
       "4                                       #HoldTheLine  holdtheline_ecosystem   \n",
       "\n",
       "  username  \n",
       "0      NaN  \n",
       "1      NaN  \n",
       "2      NaN  \n",
       "3      NaN  \n",
       "4      NaN  "
      ]
     },
     "execution_count": 49,
     "metadata": {},
     "output_type": "execute_result"
    }
   ],
   "source": [
    "htl_tweets.head()"
   ]
  },
  {
   "cell_type": "code",
   "execution_count": 50,
   "metadata": {},
   "outputs": [
    {
     "data": {
      "text/html": [
       "<div>\n",
       "<style scoped>\n",
       "    .dataframe tbody tr th:only-of-type {\n",
       "        vertical-align: middle;\n",
       "    }\n",
       "\n",
       "    .dataframe tbody tr th {\n",
       "        vertical-align: top;\n",
       "    }\n",
       "\n",
       "    .dataframe thead th {\n",
       "        text-align: right;\n",
       "    }\n",
       "</style>\n",
       "<table border=\"1\" class=\"dataframe\">\n",
       "  <thead>\n",
       "    <tr style=\"text-align: right;\">\n",
       "      <th></th>\n",
       "      <th>created_at</th>\n",
       "      <th>text</th>\n",
       "    </tr>\n",
       "  </thead>\n",
       "  <tbody>\n",
       "    <tr>\n",
       "      <td>0</td>\n",
       "      <td>2020-12-25T18:29:09.000Z</td>\n",
       "      <td>#HoldTheLine #HoldTheLine #HoldTheLine https:/...</td>\n",
       "    </tr>\n",
       "    <tr>\n",
       "      <td>1</td>\n",
       "      <td>2021-01-01T02:10:41.000Z</td>\n",
       "      <td>#HoldTheLine</td>\n",
       "    </tr>\n",
       "    <tr>\n",
       "      <td>2</td>\n",
       "      <td>2021-01-01T14:07:05.000Z</td>\n",
       "      <td>#HoldTheLine</td>\n",
       "    </tr>\n",
       "    <tr>\n",
       "      <td>3</td>\n",
       "      <td>2021-01-01T16:41:36.000Z</td>\n",
       "      <td>#HoldTheLine</td>\n",
       "    </tr>\n",
       "    <tr>\n",
       "      <td>4</td>\n",
       "      <td>2021-01-02T01:51:54.000Z</td>\n",
       "      <td>#HoldTheLine</td>\n",
       "    </tr>\n",
       "    <tr>\n",
       "      <td>...</td>\n",
       "      <td>...</td>\n",
       "      <td>...</td>\n",
       "    </tr>\n",
       "    <tr>\n",
       "      <td>95</td>\n",
       "      <td>2020-12-26T01:19:16.000Z</td>\n",
       "      <td>@SenRickScott @SenateGOP Mitch Mcconnell - Why...</td>\n",
       "    </tr>\n",
       "    <tr>\n",
       "      <td>96</td>\n",
       "      <td>2020-12-26T01:19:33.000Z</td>\n",
       "      <td>@CIndyStarbuck @senatemajldr Mitch Mcconnell -...</td>\n",
       "    </tr>\n",
       "    <tr>\n",
       "      <td>97</td>\n",
       "      <td>2020-12-25T01:24:43.000Z</td>\n",
       "      <td>@FLOTUS @GOPChairwoman @POTUS #HoldTheLine !\\n...</td>\n",
       "    </tr>\n",
       "    <tr>\n",
       "      <td>98</td>\n",
       "      <td>2020-12-26T00:01:25.000Z</td>\n",
       "      <td>@FLOTUS @GOPChairwoman @NoradSanta Mitch Mccon...</td>\n",
       "    </tr>\n",
       "    <tr>\n",
       "      <td>99</td>\n",
       "      <td>2020-12-26T00:02:35.000Z</td>\n",
       "      <td>@tedcruz @Perduesenate @KLoeffler Mitch Mcconn...</td>\n",
       "    </tr>\n",
       "  </tbody>\n",
       "</table>\n",
       "<p>100 rows × 2 columns</p>\n",
       "</div>"
      ],
      "text/plain": [
       "                  created_at  \\\n",
       "0   2020-12-25T18:29:09.000Z   \n",
       "1   2021-01-01T02:10:41.000Z   \n",
       "2   2021-01-01T14:07:05.000Z   \n",
       "3   2021-01-01T16:41:36.000Z   \n",
       "4   2021-01-02T01:51:54.000Z   \n",
       "..                       ...   \n",
       "95  2020-12-26T01:19:16.000Z   \n",
       "96  2020-12-26T01:19:33.000Z   \n",
       "97  2020-12-25T01:24:43.000Z   \n",
       "98  2020-12-26T00:01:25.000Z   \n",
       "99  2020-12-26T00:02:35.000Z   \n",
       "\n",
       "                                                 text  \n",
       "0   #HoldTheLine #HoldTheLine #HoldTheLine https:/...  \n",
       "1                                        #HoldTheLine  \n",
       "2                                        #HoldTheLine  \n",
       "3                                        #HoldTheLine  \n",
       "4                                        #HoldTheLine  \n",
       "..                                                ...  \n",
       "95  @SenRickScott @SenateGOP Mitch Mcconnell - Why...  \n",
       "96  @CIndyStarbuck @senatemajldr Mitch Mcconnell -...  \n",
       "97  @FLOTUS @GOPChairwoman @POTUS #HoldTheLine !\\n...  \n",
       "98  @FLOTUS @GOPChairwoman @NoradSanta Mitch Mccon...  \n",
       "99  @tedcruz @Perduesenate @KLoeffler Mitch Mcconn...  \n",
       "\n",
       "[100 rows x 2 columns]"
      ]
     },
     "execution_count": 50,
     "metadata": {},
     "output_type": "execute_result"
    }
   ],
   "source": [
    "htl_tweets[['created_at', 'text']].head(100)"
   ]
  },
  {
   "cell_type": "code",
   "execution_count": 51,
   "metadata": {},
   "outputs": [],
   "source": [
    "def clean_text(data):\n",
    "  data = data.lower() #this may trigger a  warning...\n",
    "  data = ' '.join([word for word in data.split(' ') if word not in stop_words])\n",
    "  # data = ' '.join([word for word in data.split(' ') if word not in stopwords])\n",
    "  data = data.encode('ascii', 'ignore').decode()\n",
    "  data = re.sub(r'https*\\S+', ' ', data)\n",
    "  data = re.sub(r'@\\S+', ' ', data)\n",
    "  data = re.sub(r'#\\S+', ' ', data)\n",
    "  data = re.sub(r'\\'\\w+', '', data)\n",
    "  data = re.sub('[%s]' % re.escape(string.punctuation), ' ', data)\n",
    "  data = re.sub(r'\\w*\\d+\\w*', '', data)\n",
    "  data = re.sub(r'\\s{2,}', ' ', data)\n",
    "  data = ' '.join([word for word in data.split(' ') if word not in stop_words])\n",
    "  # data = ' '.join([word for word in data.split(' ') if word not in stopwords])\n",
    "  return data"
   ]
  },
  {
   "cell_type": "code",
   "execution_count": 52,
   "metadata": {},
   "outputs": [
    {
     "data": {
      "text/plain": [
       "0      \n",
       "1      \n",
       "2      \n",
       "3      \n",
       "4      \n",
       "5      \n",
       "6      \n",
       "7      \n",
       "8      \n",
       "9      \n",
       "10     \n",
       "11     \n",
       "12     \n",
       "13     \n",
       "14     \n",
       "15     \n",
       "16     \n",
       "17     \n",
       "18     \n",
       "19     \n",
       "Name: cleantext, dtype: object"
      ]
     },
     "execution_count": 52,
     "metadata": {},
     "output_type": "execute_result"
    }
   ],
   "source": [
    "htl_tweets['cleantext'] = htl_tweets['text'].apply(clean_text) \n",
    "htl_tweets = htl_tweets[htl_tweets['cleantext'].notnull()]\n",
    "htl_tweets['cleantext'].reset_index(drop=True).head(20)"
   ]
  },
  {
   "cell_type": "code",
   "execution_count": 53,
   "metadata": {},
   "outputs": [
    {
     "data": {
      "text/plain": [
       "0                                                      \n",
       "1                                                      \n",
       "2                                                      \n",
       "3                                                      \n",
       "4                                                      \n",
       "                            ...                        \n",
       "95     mitch mcconnell fight ga runoff republican ma...\n",
       "96     mitch mcconnell fight ga runoff republican ma...\n",
       "97     coward wh advisors never trump snobs block pr...\n",
       "98     mitch mcconnell fight ga runoff republican ma...\n",
       "99     mitch mcconnell fight ga runoff republican ma...\n",
       "Name: cleantext, Length: 100, dtype: object"
      ]
     },
     "execution_count": 53,
     "metadata": {},
     "output_type": "execute_result"
    }
   ],
   "source": [
    "htl_tweets['cleantext'].reset_index(drop=True).head(100)"
   ]
  },
  {
   "cell_type": "code",
   "execution_count": 54,
   "metadata": {},
   "outputs": [
    {
     "data": {
      "text/plain": [
       "<matplotlib.legend.Legend at 0x7fa931bf2b50>"
      ]
     },
     "execution_count": 54,
     "metadata": {},
     "output_type": "execute_result"
    },
    {
     "data": {
      "image/png": "[encoded data removed]",
      "text/plain": [
       "<Figure size 432x288 with 1 Axes>"
      ]
     },
     "metadata": {
      "needs_background": "light"
     },
     "output_type": "display_data"
    }
   ],
   "source": [
    "def get_top_n_words(corpus, n=None):\n",
    "    vec = CountVectorizer().fit(corpus)\n",
    "    bag_of_words = vec.transform(corpus)\n",
    "    sum_words = bag_of_words.sum(axis=0) \n",
    "    words_freq = [(word, sum_words[0, idx]) for word, idx in vec.vocabulary_.items()]\n",
    "    words_freq =sorted(words_freq, key = lambda x: x[1], reverse=True)\n",
    "    return words_freq[:n]\n",
    "\n",
    "common_words = get_top_n_words(htl_tweets['cleantext'], 20)\n",
    "#for word, freq in common_words:\n",
    "#    print(word, freq)\n",
    "common_words_df = pd.DataFrame(common_words)\n",
    "fig, ax = plt.subplots()\n",
    "common_words_df.plot.barh(x=0, y=1, color='r', ax=ax).invert_yaxis()\n",
    "ax.legend([\"mentions\"])"
   ]
  },
  {
   "cell_type": "code",
   "execution_count": 55,
   "metadata": {},
   "outputs": [
    {
     "data": {
      "image/png": "[encoded data removed]",
      "text/plain": [
       "<Figure size 432x288 with 1 Axes>"
      ]
     },
     "metadata": {
      "needs_background": "light"
     },
     "output_type": "display_data"
    }
   ],
   "source": [
    "bigrams = [(x, i.split()[j + 1]) for i in htl_tweets['cleantext']  \n",
    "       for j, x in enumerate(i.split()) if j < len(i.split()) - 1]\n",
    "frequency_dist_bigrams = FreqDist(bigrams)\n",
    "common_bigrams_df = pd.DataFrame(frequency_dist_bigrams.most_common(20))\n",
    "fig, ax = plt.subplots()\n",
    "common_bigrams_df.plot.barh(x=0, y=1, color='r', ax=ax).invert_yaxis()\n",
    "ax.legend([\"mentions\"]);"
   ]
  },
  {
   "cell_type": "code",
   "execution_count": 56,
   "metadata": {},
   "outputs": [],
   "source": [
    "\n",
    "# Only alphabet, contains at least 3 letters, and appears > 10 times in the text\n",
    "vectorizer = CountVectorizer(analyzer='word', \n",
    "                              token_pattern=r'\\b[a-zA-Z]{3,}\\b',  \n",
    "                              ngram_range=(1, 1),\n",
    "                              min_df=10)\n",
    "count_vectorized = vectorizer.fit_transform(htl_tweets['cleantext'])\n",
    "tfidf_transformer = TfidfTransformer(smooth_idf=True, use_idf=True)\n",
    "vectorized = tfidf_transformer.fit_transform(count_vectorized)\n",
    "vector_matrix = pd.DataFrame(vectorized.toarray(), \n",
    "             index=['message '+str(i) \n",
    "                    for i in range(1, 1+len(htl_tweets['cleantext']))],\n",
    "             columns=vectorizer.get_feature_names())"
   ]
  },
  {
   "cell_type": "code",
   "execution_count": 57,
   "metadata": {},
   "outputs": [],
   "source": [
    "pairwise_cov_matrix = vector_matrix.cov()"
   ]
  },
  {
   "cell_type": "code",
   "execution_count": 58,
   "metadata": {},
   "outputs": [],
   "source": [
    "pairwise_cor = np.corrcoef(pairwise_cov_matrix)\n",
    "words = list(pairwise_cov_matrix.columns) \n",
    "pairwise_cor_matrix = pd.DataFrame(pairwise_cor, columns = words, index = words)"
   ]
  },
  {
   "cell_type": "code",
   "execution_count": 59,
   "metadata": {},
   "outputs": [],
   "source": [
    "def corr_network(matrix, topics, words):\n",
    "    temp_mat = matrix[matrix.index.isin(topics)]\n",
    "    temp_df = pd.DataFrame(temp_mat.T.unstack().reset_index(name='correlation').sort_values('correlation', ascending=False))\n",
    "    temp_df = temp_df.rename(columns={\"level_0\": 'topic', \"level_1\": 'word'})\n",
    "    temp_df = temp_df.sort_values(['topic','correlation'], ascending=False).reset_index(drop=True)\n",
    "    temp_df = temp_df[temp_df['topic'] != temp_df['word']]\n",
    "    return temp_df.groupby(['topic'],as_index=False).apply(lambda x: x.nlargest(words, 'correlation'))\n",
    "\n",
    "pairwise_cor_network = corr_network(pairwise_cor_matrix, common_words_df[0], 10)"
   ]
  },
  {
   "cell_type": "code",
   "execution_count": 63,
   "metadata": {},
   "outputs": [
    {
     "data": {
      "text/html": [
       "<div>\n",
       "<style scoped>\n",
       "    .dataframe tbody tr th:only-of-type {\n",
       "        vertical-align: middle;\n",
       "    }\n",
       "\n",
       "    .dataframe tbody tr th {\n",
       "        vertical-align: top;\n",
       "    }\n",
       "\n",
       "    .dataframe thead th {\n",
       "        text-align: right;\n",
       "    }\n",
       "</style>\n",
       "<table border=\"1\" class=\"dataframe\">\n",
       "  <thead>\n",
       "    <tr style=\"text-align: right;\">\n",
       "      <th></th>\n",
       "      <th></th>\n",
       "      <th>topic</th>\n",
       "      <th>word</th>\n",
       "      <th>correlation</th>\n",
       "    </tr>\n",
       "  </thead>\n",
       "  <tbody>\n",
       "  </tbody>\n",
       "</table>\n",
       "</div>"
      ],
      "text/plain": [
       "Empty DataFrame\n",
       "Columns: [topic, word, correlation]\n",
       "Index: []"
      ]
     },
     "execution_count": 63,
     "metadata": {},
     "output_type": "execute_result"
    }
   ],
   "source": [
    "pairwise_cor_network[pairwise_cor_network['topic'] == 'warnock']"
   ]
  },
  {
   "cell_type": "code",
   "execution_count": 70,
   "metadata": {},
   "outputs": [
    {
     "name": "stderr",
     "output_type": "stream",
     "text": [
      "/Users/sam/opt/anaconda3/lib/python3.7/site-packages/networkx/drawing/nx_pylab.py:579: MatplotlibDeprecationWarning: \n",
      "The iterable function was deprecated in Matplotlib 3.1 and will be removed in 3.3. Use np.iterable instead.\n",
      "  if not cb.iterable(width):\n"
     ]
    },
    {
     "data": {
      "image/png": "[encoded data removed]",
      "text/plain": [
       "<Figure size 1080x1080 with 1 Axes>"
      ]
     },
     "metadata": {},
     "output_type": "display_data"
    }
   ],
   "source": [
    "np.random.seed(2020)\n",
    "pairwise_cor_network_clean = pairwise_cor_network[pairwise_cor_network['correlation'] > 0.25]\n",
    "G = nx.from_pandas_edgelist(pairwise_cor_network_clean, source='word', target='topic', edge_attr=True)\n",
    "fig, ax = plt.subplots(figsize=(15, 15))\n",
    "\n",
    "#pos = nx.spring_layout(G, k=10/G.order())\n",
    "#pos = nx.spiral_layout(G)\n",
    "pos = nx.fruchterman_reingold_layout(G, k=20/G.order())\n",
    "#pos = nx.kamada_kawai_layout(G)\n",
    "#pos = nx.spectral_layout(G)\n",
    "# Plot networks\n",
    "nx.draw_networkx(G, pos,\n",
    "                 font_size=8,\n",
    "                 width=0.2,\n",
    "                 node_size = 0.5,\n",
    "                 edge_color='grey',\n",
    "                 node_color='red',\n",
    "                 with_labels = False,\n",
    "                 ax=ax)\n",
    "\n",
    "# Create offset labels\n",
    "for key, value in pos.items():\n",
    "    x, y = value[0]+.035, value[1]+.045\n",
    "    ax.text(x, y,\n",
    "            s=key,\n",
    "            #bbox=dict(facecolor='red', alpha=0.25),\n",
    "            horizontalalignment='center', fontsize=10)\n",
    "    \n",
    "plt.axis('off')\n",
    "plt.title(\"Pairwise Correlations for #HoldTheLine, Dec 22 - Jan 3\")\n",
    "plt.savefig('holdtheline_tweets.pdf', dpi=300, bbox_inches=\"tight\")"
   ]
  },
  {
   "cell_type": "code",
   "execution_count": 12,
   "metadata": {},
   "outputs": [
    {
     "data": {
      "text/plain": [
       "{'a',\n",
       " 'about',\n",
       " 'above',\n",
       " 'after',\n",
       " 'again',\n",
       " 'against',\n",
       " 'ain',\n",
       " 'all',\n",
       " 'am',\n",
       " 'amp',\n",
       " 'an',\n",
       " 'and',\n",
       " 'any',\n",
       " 'are',\n",
       " 'aren',\n",
       " \"aren't\",\n",
       " 'as',\n",
       " 'at',\n",
       " 'be',\n",
       " 'because',\n",
       " 'been',\n",
       " 'before',\n",
       " 'being',\n",
       " 'below',\n",
       " 'between',\n",
       " 'both',\n",
       " 'but',\n",
       " 'by',\n",
       " 'can',\n",
       " 'couldn',\n",
       " \"couldn't\",\n",
       " 'd',\n",
       " 'did',\n",
       " 'didn',\n",
       " \"didn't\",\n",
       " 'do',\n",
       " 'does',\n",
       " 'doesn',\n",
       " \"doesn't\",\n",
       " 'doing',\n",
       " 'don',\n",
       " \"don't\",\n",
       " 'down',\n",
       " 'during',\n",
       " 'each',\n",
       " 'few',\n",
       " 'for',\n",
       " 'from',\n",
       " 'further',\n",
       " 'had',\n",
       " 'hadn',\n",
       " \"hadn't\",\n",
       " 'has',\n",
       " 'hasn',\n",
       " \"hasn't\",\n",
       " 'have',\n",
       " 'haven',\n",
       " \"haven't\",\n",
       " 'having',\n",
       " 'he',\n",
       " 'her',\n",
       " 'here',\n",
       " 'hers',\n",
       " 'herself',\n",
       " 'him',\n",
       " 'himself',\n",
       " 'his',\n",
       " 'how',\n",
       " 'i',\n",
       " 'if',\n",
       " 'in',\n",
       " 'into',\n",
       " 'is',\n",
       " 'isn',\n",
       " \"isn't\",\n",
       " 'it',\n",
       " \"it's\",\n",
       " 'its',\n",
       " 'itself',\n",
       " 'just',\n",
       " 'll',\n",
       " 'm',\n",
       " 'ma',\n",
       " 'me',\n",
       " 'mightn',\n",
       " \"mightn't\",\n",
       " 'more',\n",
       " 'most',\n",
       " 'mustn',\n",
       " \"mustn't\",\n",
       " 'my',\n",
       " 'myself',\n",
       " 'needn',\n",
       " \"needn't\",\n",
       " 'no',\n",
       " 'nor',\n",
       " 'not',\n",
       " 'now',\n",
       " 'o',\n",
       " 'of',\n",
       " 'off',\n",
       " 'on',\n",
       " 'once',\n",
       " 'only',\n",
       " 'or',\n",
       " 'other',\n",
       " 'our',\n",
       " 'ours',\n",
       " 'ourselves',\n",
       " 'out',\n",
       " 'over',\n",
       " 'own',\n",
       " 're',\n",
       " 's',\n",
       " 'same',\n",
       " 'shan',\n",
       " \"shan't\",\n",
       " 'she',\n",
       " \"she's\",\n",
       " 'should',\n",
       " \"should've\",\n",
       " 'shouldn',\n",
       " \"shouldn't\",\n",
       " 'so',\n",
       " 'some',\n",
       " 'such',\n",
       " 't',\n",
       " 'than',\n",
       " 'that',\n",
       " \"that'll\",\n",
       " 'the',\n",
       " 'their',\n",
       " 'theirs',\n",
       " 'them',\n",
       " 'themselves',\n",
       " 'then',\n",
       " 'there',\n",
       " 'these',\n",
       " 'they',\n",
       " 'this',\n",
       " 'those',\n",
       " 'through',\n",
       " 'to',\n",
       " 'too',\n",
       " 'under',\n",
       " 'until',\n",
       " 'up',\n",
       " 've',\n",
       " 'very',\n",
       " 'was',\n",
       " 'wasn',\n",
       " \"wasn't\",\n",
       " 'we',\n",
       " 'were',\n",
       " 'weren',\n",
       " \"weren't\",\n",
       " 'what',\n",
       " 'when',\n",
       " 'where',\n",
       " 'which',\n",
       " 'while',\n",
       " 'who',\n",
       " 'whom',\n",
       " 'why',\n",
       " 'will',\n",
       " 'with',\n",
       " 'won',\n",
       " \"won't\",\n",
       " 'wouldn',\n",
       " \"wouldn't\",\n",
       " 'y',\n",
       " 'you',\n",
       " \"you'd\",\n",
       " \"you'll\",\n",
       " \"you're\",\n",
       " \"you've\",\n",
       " 'your',\n",
       " 'yours',\n",
       " 'yourself',\n",
       " 'yourselves'}"
      ]
     },
     "execution_count": 12,
     "metadata": {},
     "output_type": "execute_result"
    }
   ],
   "source": [
    "stop_words"
   ]
  },
  {
   "cell_type": "code",
   "execution_count": 69,
   "metadata": {},
   "outputs": [
    {
     "data": {
      "text/plain": [
       "<Figure size 432x288 with 0 Axes>"
      ]
     },
     "metadata": {},
     "output_type": "display_data"
    }
   ],
   "source": [
    "plt.savefig('holdtheline_tweets.pdf', dpi=300, bbox_inches=\"tight\")"
   ]
  },
  {
   "cell_type": "code",
   "execution_count": null,
   "metadata": {},
   "outputs": [],
   "source": []
  }
 ],
 "metadata": {
  "kernelspec": {
   "display_name": "Python 3",
   "language": "python",
   "name": "python3"
  },
  "language_info": {
   "codemirror_mode": {
    "name": "ipython",
    "version": 3
   },
   "file_extension": ".py",
   "mimetype": "text/x-python",
   "name": "python",
   "nbconvert_exporter": "python",
   "pygments_lexer": "ipython3",
   "version": "3.7.4"
  }
 },
 "nbformat": 4,
 "nbformat_minor": 2
}
