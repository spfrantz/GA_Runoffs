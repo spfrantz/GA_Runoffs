{
 "cells": [
  {
   "cell_type": "markdown",
   "metadata": {},
   "source": [
    "# Identifying and Analyzing Twitter Hashtags\n",
    "\n"
   ]
  },
  {
   "cell_type": "code",
   "execution_count": 2,
   "metadata": {},
   "outputs": [],
   "source": [
    "import matplotlib.pyplot as plt\n",
    "import itertools\n",
    "import json\n",
    "import pandas as pd\n",
    "import pymongo\n",
    "from collections import Counter"
   ]
  },
  {
   "cell_type": "code",
   "execution_count": 3,
   "metadata": {},
   "outputs": [],
   "source": [
    "client = pymongo.MongoClient()\n",
    "db = client['GA_Runoffs']"
   ]
  },
  {
   "cell_type": "code",
   "execution_count": 4,
   "metadata": {},
   "outputs": [],
   "source": [
    "# Find tweets that include #GAPol or #GASen\n",
    "\n",
    "hashtags = db.collected_tweets.find({\"entities.hashtags\":{'$exists': True}, \"$text\": {\"$search\":\"#gapol #gasen\"}}, \n",
    "                                    {'entities.hashtags.tag':1,'category':1,'created_at':1})"
   ]
  },
  {
   "cell_type": "code",
   "execution_count": 6,
   "metadata": {},
   "outputs": [],
   "source": [
    "# Convert PyMongo cursor object to Pandas dataframe\n",
    "hashtags2 = pd.DataFrame(list(hashtags))"
   ]
  },
  {
   "cell_type": "code",
   "execution_count": 7,
   "metadata": {},
   "outputs": [
    {
     "data": {
      "text/plain": [
       "30642"
      ]
     },
     "execution_count": 7,
     "metadata": {},
     "output_type": "execute_result"
    }
   ],
   "source": [
    "# Count the number of tweets with hashtags\n",
    "len(hashtags2)"
   ]
  },
  {
   "cell_type": "code",
   "execution_count": 8,
   "metadata": {},
   "outputs": [
    {
     "data": {
      "text/html": [
       "<div>\n",
       "<style scoped>\n",
       "    .dataframe tbody tr th:only-of-type {\n",
       "        vertical-align: middle;\n",
       "    }\n",
       "\n",
       "    .dataframe tbody tr th {\n",
       "        vertical-align: top;\n",
       "    }\n",
       "\n",
       "    .dataframe thead th {\n",
       "        text-align: right;\n",
       "    }\n",
       "</style>\n",
       "<table border=\"1\" class=\"dataframe\">\n",
       "  <thead>\n",
       "    <tr style=\"text-align: right;\">\n",
       "      <th></th>\n",
       "      <th>_id</th>\n",
       "      <th>created_at</th>\n",
       "      <th>entities</th>\n",
       "      <th>category</th>\n",
       "    </tr>\n",
       "  </thead>\n",
       "  <tbody>\n",
       "    <tr>\n",
       "      <td>0</td>\n",
       "      <td>5ff4def1b606b9d6dc3b8d6d</td>\n",
       "      <td>2021-01-04T20:31:24.000Z</td>\n",
       "      <td>{'hashtags': [{'tag': 'gapol'}, {'tag': 'gasen...</td>\n",
       "      <td>hashtag_search</td>\n",
       "    </tr>\n",
       "    <tr>\n",
       "      <td>1</td>\n",
       "      <td>5fecb29e88da48afa84ec2dd</td>\n",
       "      <td>2020-12-29T14:18:08.000Z</td>\n",
       "      <td>{'hashtags': [{'tag': 'gapol'}, {'tag': 'gasen...</td>\n",
       "      <td>hashtag_search</td>\n",
       "    </tr>\n",
       "    <tr>\n",
       "      <td>2</td>\n",
       "      <td>5fecb29e88da48afa84ec2f1</td>\n",
       "      <td>2020-12-29T14:07:34.000Z</td>\n",
       "      <td>{'hashtags': [{'tag': 'gapol'}, {'tag': 'gasen...</td>\n",
       "      <td>hashtag_search</td>\n",
       "    </tr>\n",
       "    <tr>\n",
       "      <td>3</td>\n",
       "      <td>5fecb29e88da48afa84ec2f7</td>\n",
       "      <td>2020-12-29T14:04:51.000Z</td>\n",
       "      <td>{'hashtags': [{'tag': 'gapol'}, {'tag': 'gasen...</td>\n",
       "      <td>hashtag_search</td>\n",
       "    </tr>\n",
       "    <tr>\n",
       "      <td>4</td>\n",
       "      <td>5fecb29e88da48afa84ec2f4</td>\n",
       "      <td>2020-12-29T14:05:46.000Z</td>\n",
       "      <td>{'hashtags': [{'tag': 'gapol'}, {'tag': 'gasen...</td>\n",
       "      <td>hashtag_search</td>\n",
       "    </tr>\n",
       "  </tbody>\n",
       "</table>\n",
       "</div>"
      ],
      "text/plain": [
       "                        _id                created_at  \\\n",
       "0  5ff4def1b606b9d6dc3b8d6d  2021-01-04T20:31:24.000Z   \n",
       "1  5fecb29e88da48afa84ec2dd  2020-12-29T14:18:08.000Z   \n",
       "2  5fecb29e88da48afa84ec2f1  2020-12-29T14:07:34.000Z   \n",
       "3  5fecb29e88da48afa84ec2f7  2020-12-29T14:04:51.000Z   \n",
       "4  5fecb29e88da48afa84ec2f4  2020-12-29T14:05:46.000Z   \n",
       "\n",
       "                                            entities        category  \n",
       "0  {'hashtags': [{'tag': 'gapol'}, {'tag': 'gasen...  hashtag_search  \n",
       "1  {'hashtags': [{'tag': 'gapol'}, {'tag': 'gasen...  hashtag_search  \n",
       "2  {'hashtags': [{'tag': 'gapol'}, {'tag': 'gasen...  hashtag_search  \n",
       "3  {'hashtags': [{'tag': 'gapol'}, {'tag': 'gasen...  hashtag_search  \n",
       "4  {'hashtags': [{'tag': 'gapol'}, {'tag': 'gasen...  hashtag_search  "
      ]
     },
     "execution_count": 8,
     "metadata": {},
     "output_type": "execute_result"
    }
   ],
   "source": [
    "hashtags2.head(5)"
   ]
  },
  {
   "cell_type": "code",
   "execution_count": 9,
   "metadata": {},
   "outputs": [],
   "source": [
    "# Initialize empty list of hashtags\n",
    "hashtags2['hashtags'] = pd.np.empty((len(hashtags2),0)).tolist()\n",
    "\n",
    "# Unpack entities.hashtags\n",
    "for index, value in hashtags2['entities'].items():\n",
    "    for item in value['hashtags']:\n",
    "        hashtags2['hashtags'].iloc[index].append(item['tag'].lower())"
   ]
  },
  {
   "cell_type": "code",
   "execution_count": 10,
   "metadata": {},
   "outputs": [
    {
     "data": {
      "text/html": [
       "<div>\n",
       "<style scoped>\n",
       "    .dataframe tbody tr th:only-of-type {\n",
       "        vertical-align: middle;\n",
       "    }\n",
       "\n",
       "    .dataframe tbody tr th {\n",
       "        vertical-align: top;\n",
       "    }\n",
       "\n",
       "    .dataframe thead th {\n",
       "        text-align: right;\n",
       "    }\n",
       "</style>\n",
       "<table border=\"1\" class=\"dataframe\">\n",
       "  <thead>\n",
       "    <tr style=\"text-align: right;\">\n",
       "      <th></th>\n",
       "      <th>_id</th>\n",
       "      <th>created_at</th>\n",
       "      <th>entities</th>\n",
       "      <th>category</th>\n",
       "      <th>hashtags</th>\n",
       "    </tr>\n",
       "  </thead>\n",
       "  <tbody>\n",
       "    <tr>\n",
       "      <td>30639</td>\n",
       "      <td>5ff4de86b606b9d6dc3b7da0</td>\n",
       "      <td>2021-01-05T13:22:27.000Z</td>\n",
       "      <td>{'hashtags': [{'tag': 'CravenRepublican'}, {'t...</td>\n",
       "      <td>hashtag_search</td>\n",
       "      <td>[cravenrepublican, gopot, gasen]</td>\n",
       "    </tr>\n",
       "    <tr>\n",
       "      <td>30640</td>\n",
       "      <td>5ff4deb7b606b9d6dc3b84c5</td>\n",
       "      <td>2021-01-05T02:25:54.000Z</td>\n",
       "      <td>{'hashtags': [{'tag': 'GAGov'}, {'tag': 'GASoS...</td>\n",
       "      <td>hashtag_search</td>\n",
       "      <td>[gagov, gasos, gagop, gasen]</td>\n",
       "    </tr>\n",
       "    <tr>\n",
       "      <td>30641</td>\n",
       "      <td>5ff4de86b606b9d6dc3b7d57</td>\n",
       "      <td>2021-01-05T13:31:08.000Z</td>\n",
       "      <td>{'hashtags': [{'tag': 'GASen'}, {'tag': 'FakeN...</td>\n",
       "      <td>hashtag_search</td>\n",
       "      <td>[gasen, fakenews]</td>\n",
       "    </tr>\n",
       "  </tbody>\n",
       "</table>\n",
       "</div>"
      ],
      "text/plain": [
       "                            _id                created_at  \\\n",
       "30639  5ff4de86b606b9d6dc3b7da0  2021-01-05T13:22:27.000Z   \n",
       "30640  5ff4deb7b606b9d6dc3b84c5  2021-01-05T02:25:54.000Z   \n",
       "30641  5ff4de86b606b9d6dc3b7d57  2021-01-05T13:31:08.000Z   \n",
       "\n",
       "                                                entities        category  \\\n",
       "30639  {'hashtags': [{'tag': 'CravenRepublican'}, {'t...  hashtag_search   \n",
       "30640  {'hashtags': [{'tag': 'GAGov'}, {'tag': 'GASoS...  hashtag_search   \n",
       "30641  {'hashtags': [{'tag': 'GASen'}, {'tag': 'FakeN...  hashtag_search   \n",
       "\n",
       "                               hashtags  \n",
       "30639  [cravenrepublican, gopot, gasen]  \n",
       "30640      [gagov, gasos, gagop, gasen]  \n",
       "30641                 [gasen, fakenews]  "
      ]
     },
     "execution_count": 10,
     "metadata": {},
     "output_type": "execute_result"
    }
   ],
   "source": [
    "hashtags2.tail(3)"
   ]
  },
  {
   "cell_type": "code",
   "execution_count": 11,
   "metadata": {},
   "outputs": [],
   "source": [
    "# Calculate most commmon hashtags\n",
    "\n",
    "# Create one list of tags\n",
    "hashtags_list = hashtags2['hashtags'].to_list()\n",
    "\n",
    "# Flatten the list then count items\n",
    "hashtags_list = [y for x in hashtags_list for y in x]\n",
    "\n",
    "# Count the top hashtags\n",
    "top_hashtags = dict(Counter(hashtags_list).items())\n",
    "top_hashtags = sorted(top_hashtags.items(), key=lambda x: x[1], reverse=True)"
   ]
  },
  {
   "cell_type": "code",
   "execution_count": 12,
   "metadata": {},
   "outputs": [
    {
     "data": {
      "text/plain": [
       "[('gapol', 22294),\n",
       " ('gasen', 21263),\n",
       " ('georgia', 4356),\n",
       " ('ossoff', 1377),\n",
       " ('warnock', 1359),\n",
       " ('vote', 1107),\n",
       " ('demcastga', 964),\n",
       " ('holdtheline', 921),\n",
       " ('runoff', 816),\n",
       " ('goodtrouble', 716)]"
      ]
     },
     "execution_count": 12,
     "metadata": {},
     "output_type": "execute_result"
    }
   ],
   "source": [
    "top_hashtags[0:10]"
   ]
  },
  {
   "cell_type": "code",
   "execution_count": 13,
   "metadata": {},
   "outputs": [],
   "source": [
    "# Remove GAPol, GASen\n",
    "top_hashtags.remove(('gapol', 22294))\n",
    "top_hashtags.remove(('gasen', 21263))\n",
    "top_hashtags.remove(('georgia', 4356))"
   ]
  },
  {
   "cell_type": "code",
   "execution_count": 28,
   "metadata": {},
   "outputs": [],
   "source": [
    "# Select top 20 hashtags\n",
    "hashtags_df = pd.DataFrame(top_hashtags, columns=[\"Hashtag\", \"Count\"])\n",
    "top_hashtags_df = hashtags_df.nlargest(20,'Count')\n",
    "top_hashtags_df = top_hashtags_df.sort_values('Count', ascending = False)"
   ]
  },
  {
   "cell_type": "code",
   "execution_count": 29,
   "metadata": {},
   "outputs": [
    {
     "data": {
      "text/plain": [
       "Text(0, 0.5, '')"
      ]
     },
     "execution_count": 29,
     "metadata": {},
     "output_type": "execute_result"
    },
    {
     "data": {
      "image/png": "[encoded data removed]",
      "text/plain": [
       "<Figure size 576x360 with 1 Axes>"
      ]
     },
     "metadata": {
      "needs_background": "light"
     },
     "output_type": "display_data"
    }
   ],
   "source": [
    "barchart = top_hashtags_df.plot.barh(x='Hashtag', y='Count', \n",
    "                                     title=\"Top 20 Hashtags Co-occuring with #GAPol and #GASen\", \n",
    "                                     legend=None, figsize=(8, 5))\n",
    "barchart.set_xlabel(\"Count\")\n",
    "barchart.xaxis.grid(linestyle=':')\n",
    "barchart.set_ylabel(None)"
   ]
  },
  {
   "cell_type": "code",
   "execution_count": 26,
   "metadata": {},
   "outputs": [],
   "source": [
    "barfig = barchart.get_figure()\n",
    "barfig.savefig('gapolsen-occurance-chart.png', dpi=300, bbox_inches=\"tight\")"
   ]
  },
  {
   "cell_type": "code",
   "execution_count": null,
   "metadata": {},
   "outputs": [],
   "source": [
    "# Now, retrieve mentions of Warnock from database, extract, and \n",
    "# plot top hashtags (can turn this into a routine/function!)"
   ]
  },
  {
   "cell_type": "code",
   "execution_count": null,
   "metadata": {},
   "outputs": [],
   "source": [
    "# Query database for tweets that ahave hashtags and were part of the Warnock query\n",
    "hashtags_warnock = db.collected_tweets.find({\"entities.hashtags\": {'$exists': True}, \"query\":\"(%40ReverendWarnock) -is:retweet\"}, {'entities.hashtags.tag':1,\n",
    "                                                                              'category':1, 'username':1,\n",
    "                                                                              'created_at':1})"
   ]
  },
  {
   "cell_type": "code",
   "execution_count": null,
   "metadata": {},
   "outputs": [],
   "source": [
    "# Count 'em\n",
    "hashtags.count()"
   ]
  },
  {
   "cell_type": "code",
   "execution_count": null,
   "metadata": {},
   "outputs": [],
   "source": [
    "# Dump the Mongo results to a dataframe\n",
    "hashtags_warnock = pd.DataFrame(list(hashtags_warnock))\n",
    "hashtags_warnock.head(10)"
   ]
  },
  {
   "cell_type": "code",
   "execution_count": null,
   "metadata": {},
   "outputs": [],
   "source": [
    "# Create a column of empty lists for adding the hashtags\n",
    "hashtags_warnock['hashtags'] = pd.np.empty((len(hashtags_warnock),0)).tolist()"
   ]
  },
  {
   "cell_type": "code",
   "execution_count": null,
   "metadata": {},
   "outputs": [],
   "source": [
    "# Convert JSON list of hashtags to simple Python list, per tweet\n",
    "for index, value in hashtags_warnock['entities'].items():\n",
    "    for item in value['hashtags']:\n",
    "        hashtags_warnock['hashtags'].iloc[index].append(item['tag'].lower())"
   ]
  },
  {
   "cell_type": "code",
   "execution_count": null,
   "metadata": {},
   "outputs": [],
   "source": [
    "# Now, create single list of hashtags in the dataframe and count the occurances of each\n",
    "hashtags_list = hashtags_warnock['hashtags'].to_list()\n",
    "hashtags_list = [y for x in hashtags_list for y in x]\n",
    "top_hashtags = dict(Counter(hashtags_list).items())\n",
    "top_hashtags = sorted(top_hashtags.items(), key=lambda x: x[1], reverse=True)\n",
    "top_hashtags\n"
   ]
  },
  {
   "cell_type": "code",
   "execution_count": null,
   "metadata": {},
   "outputs": [],
   "source": [
    "# Remove Georgia hashtag\n",
    "top_hashtags.remove(('georgia', 988))"
   ]
  },
  {
   "cell_type": "code",
   "execution_count": null,
   "metadata": {},
   "outputs": [],
   "source": [
    "# Narrow down to top 20 and plot\n",
    "\n",
    "top_hashtags_df = pd.DataFrame(top_hashtags, columns=[\"Hashtag\", \"Count\"])\n",
    "\n",
    "top_hashtags_df = top_hashtags_df.nlargest(20,'Count')\n",
    "top_hashtags_df = top_hashtags_df.sort_values('Count')\n",
    "\n",
    "\n",
    "barchart = top_hashtags_df.plot.barh(x='Hashtag', y='Count', \n",
    "                                     title=\"Top 20 Hashtags Co-occurring with Mentions of @ReverendWarnock\", \n",
    "                                     legend=None, figsize=(8, 5))\n",
    "barchart.set_xlabel(\"Count\")\n",
    "barchart.set_ylabel(None)\n",
    "barchart.xaxis.grid(linestyle=':')"
   ]
  },
  {
   "cell_type": "code",
   "execution_count": null,
   "metadata": {},
   "outputs": [],
   "source": [
    "# Save the plot\n",
    "barfig = barchart.get_figure()\n",
    "barfig.savefig('co-occurance-chart-warnock.png', dpi=300, bbox_inches=\"tight\")"
   ]
  }
 ],
 "metadata": {
  "kernelspec": {
   "display_name": "Python 3",
   "language": "python",
   "name": "python3"
  },
  "language_info": {
   "codemirror_mode": {
    "name": "ipython",
    "version": 3
   },
   "file_extension": ".py",
   "mimetype": "text/x-python",
   "name": "python",
   "nbconvert_exporter": "python",
   "pygments_lexer": "ipython3",
   "version": "3.7.4"
  }
 },
 "nbformat": 4,
 "nbformat_minor": 2
}
