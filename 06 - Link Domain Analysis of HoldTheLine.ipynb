{
 "cells": [
  {
   "cell_type": "markdown",
   "metadata": {},
   "source": [
    "# Commonly Shared URLs and Domains in #HoldTheLine\n",
    "\n",
    "This script extracts URLs and domains from links shared in tweets. It also identifies the most popular links.\n",
    "\n",
    "TODO: Combine with userdata to show number of followers, track spread over time (put into same format as CT?)"
   ]
  },
  {
   "cell_type": "code",
   "execution_count": 2,
   "metadata": {},
   "outputs": [],
   "source": [
    "import pandas as pd\n",
    "import pymongo\n",
    "import tldextract\n",
    "from collections import Counter"
   ]
  },
  {
   "cell_type": "code",
   "execution_count": 3,
   "metadata": {},
   "outputs": [],
   "source": [
    "client = pymongo.MongoClient()\n",
    "db = client['GA_Runoffs']"
   ]
  },
  {
   "cell_type": "code",
   "execution_count": 4,
   "metadata": {},
   "outputs": [],
   "source": [
    "# Return tweets based on a query, in this case tweets that use the hastag #HoldTheLine and that contain a URL\n",
    "search_results = db.collected_tweets.find({\"$and\":[{\"$text\": {\"$search\":\"#holdtheline\"}}, {\"entities.urls\":{'$exists': True}}]}, \n",
    "                                    {'entities.hashtags.tag':1,'category':1,'created_at':1, 'author_id':1, 'entities.urls.expanded_url':1,\n",
    "                                    'public_metrics':1})"
   ]
  },
  {
   "cell_type": "code",
   "execution_count": 5,
   "metadata": {},
   "outputs": [],
   "source": [
    "# Convert the data to a pandas dataframe\n",
    "search_results_df = pd.DataFrame(list(search_results))"
   ]
  },
  {
   "cell_type": "code",
   "execution_count": 6,
   "metadata": {},
   "outputs": [
    {
     "data": {
      "text/plain": [
       "11357"
      ]
     },
     "execution_count": 6,
     "metadata": {},
     "output_type": "execute_result"
    }
   ],
   "source": [
    "# How many tweets did we collect?\n",
    "len(search_results_df)"
   ]
  },
  {
   "cell_type": "code",
   "execution_count": 7,
   "metadata": {},
   "outputs": [],
   "source": [
    "# Unpack lists of URLs\n",
    "\n",
    "# Initialize empty lists of URLs and domains\n",
    "search_results_df['urls'] = pd.np.empty((len(search_results_df),0)).tolist()\n",
    "search_results_df['domains'] = pd.np.empty((len(search_results_df),0)).tolist()\n"
   ]
  },
  {
   "cell_type": "code",
   "execution_count": 8,
   "metadata": {},
   "outputs": [],
   "source": [
    "# Unpack the URLs into a single list\n",
    "for index, value in search_results_df['entities'].items():\n",
    "    for item in value['urls']:\n",
    "        search_results_df['urls'].iloc[index].append(item['expanded_url'])"
   ]
  },
  {
   "cell_type": "code",
   "execution_count": 9,
   "metadata": {},
   "outputs": [],
   "source": [
    "# Use tldextract library to extract root domains\n",
    "for index, value in search_results_df['urls'].items():\n",
    "    domain_info = tldextract.extract(value[0])\n",
    "    search_results_df['domains'].iloc[index].append(domain_info.registered_domain)"
   ]
  },
  {
   "cell_type": "code",
   "execution_count": 10,
   "metadata": {},
   "outputs": [
    {
     "data": {
      "text/plain": [
       "[('twitter.com', 10183),\n",
       " ('youtu.be', 288),\n",
       " ('givesendgo.com', 197),\n",
       " ('thegatewaypundit.com', 50),\n",
       " ('youtube.com', 47),\n",
       " ('rumble.com', 23),\n",
       " ('instagram.com', 21),\n",
       " ('faxcongress.org', 20),\n",
       " ('buff.ly', 16),\n",
       " ('rappler.com', 15),\n",
       " ('foxnews.com', 13),\n",
       " ('got-freedom.org', 13),\n",
       " ('theepochtimes.com', 12),\n",
       " ('blabber.buzz', 12),\n",
       " ('TrumpMarch.com', 11),\n",
       " ('facebook.com', 11),\n",
       " ('parler.com', 10),\n",
       " ('mic.com', 10),\n",
       " ('standup-patriots.com', 10),\n",
       " ('gopvote.co', 10)]"
      ]
     },
     "execution_count": 10,
     "metadata": {},
     "output_type": "execute_result"
    }
   ],
   "source": [
    "# Analysis one: count the most common domains\n",
    "\n",
    "domains_list = search_results_df['domains'].to_list()\n",
    "domains_list = [y for x in domains_list for y in x]\n",
    "top_domains = dict(Counter(domains_list).items())\n",
    "top_domains = sorted(top_domains.items(), key=lambda x: x[1], reverse=True)\n",
    "top_domains[0:20]"
   ]
  },
  {
   "cell_type": "code",
   "execution_count": 11,
   "metadata": {},
   "outputs": [
    {
     "data": {
      "text/plain": [
       "[('https://givesendgo.com/Truepatriots', 196),\n",
       " ('https://twitter.com/HawleyMO/status/1344307458085412867?s=20-', 77),\n",
       " ('https://twitter.com/40_head/status/1345667856344600576', 22),\n",
       " ('http://www.faxcongress.org', 20),\n",
       " ('https://twitter.com/realDonaldTrump/status/1342245390540804096', 18),\n",
       " ('https://twitter.com/anonpatriotq/status/1343238789146304513', 17),\n",
       " ('https://twitter.com/GenFlynn/status/1344825204321767424', 16),\n",
       " ('https://twitter.com/GenFlynn/status/1344825206054023168', 15),\n",
       " ('https://twitter.com/ZNeveri/status/1342995101149245440', 15),\n",
       " ('https://buff.ly/390Y5UZ', 15),\n",
       " ('https://twitter.com/realDonaldTrump/status/1343663159085834248', 14),\n",
       " ('https://got-freedom.org/evidence/', 13),\n",
       " ('https://twitter.com/GenFlynn/status/1344139002077728769', 12),\n",
       " ('http://TrumpMarch.com', 11),\n",
       " ('https://twitter.com/laurenboebert/status/1345217043566649345', 10),\n",
       " ('https://twitter.com/SidneyPowell1/status/1342671477771030530', 10),\n",
       " ('https://twitter.com/realDonaldTrump/status/1342821189077622792', 10),\n",
       " ('https://twitter.com/genflynn/status/1344825204321767424', 10),\n",
       " ('https://twitter.com/hawleymo/status/1344307458085412867', 10),\n",
       " ('https://twitter.com/DanScavino/status/1344439295575252995', 10)]"
      ]
     },
     "execution_count": 11,
     "metadata": {},
     "output_type": "execute_result"
    }
   ],
   "source": [
    "# Analysis two: identify the most common individual links\n",
    "url_list = search_results_df['urls'].to_list()\n",
    "url_list = [y for x in url_list for y in x]\n",
    "top_urls = dict(Counter(url_list).items())\n",
    "top_urls = sorted(top_urls.items(), key=lambda x: x[1], reverse=True)\n",
    "top_urls[0:20]"
   ]
  },
  {
   "cell_type": "code",
   "execution_count": 12,
   "metadata": {},
   "outputs": [],
   "source": [
    "# People are not sharing much off-platform, apart from YouTube\n",
    "# TODO: count percentage of tweets (and users) with off-platform sharing"
   ]
  }
 ],
 "metadata": {
  "kernelspec": {
   "display_name": "Python 3",
   "language": "python",
   "name": "python3"
  },
  "language_info": {
   "codemirror_mode": {
    "name": "ipython",
    "version": 3
   },
   "file_extension": ".py",
   "mimetype": "text/x-python",
   "name": "python",
   "nbconvert_exporter": "python",
   "pygments_lexer": "ipython3",
   "version": "3.7.4"
  }
 },
 "nbformat": 4,
 "nbformat_minor": 2
}
