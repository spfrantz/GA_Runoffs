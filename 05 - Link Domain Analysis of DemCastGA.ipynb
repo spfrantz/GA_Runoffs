{
 "cells": [
  {
   "cell_type": "code",
   "execution_count": null,
   "metadata": {},
   "outputs": [],
   "source": [
    "# This script extracts URLs and domains from links shared in tweets. It also identifies the most popular links.\n",
    "# TODO: Combine with userdata to show number of followers, track spread over time (put into same format as CT?)"
   ]
  },
  {
   "cell_type": "code",
   "execution_count": 2,
   "metadata": {},
   "outputs": [],
   "source": [
    "import matplotlib.pyplot as plt\n",
    "import itertools\n",
    "import json\n",
    "import pandas as pd\n",
    "import pymongo\n",
    "import tldextract\n",
    "from collections import Counter"
   ]
  },
  {
   "cell_type": "code",
   "execution_count": 3,
   "metadata": {},
   "outputs": [],
   "source": [
    "client = pymongo.MongoClient()\n",
    "db = client['GA_Runoffs']"
   ]
  },
  {
   "cell_type": "code",
   "execution_count": 4,
   "metadata": {},
   "outputs": [],
   "source": [
    "# Return tweets based on a query, in this case tweets that use the hastag #HoldTheLine and that contain a URL\n",
    "search_results = db.collected_tweets.find({\"$and\":[{\"$text\": {\"$search\":\"#demcastga\"}}, {\"entities.urls\":{'$exists': True}}]}, \n",
    "                                    {'entities.hashtags.tag':1,'category':1,'created_at':1, 'author_id':1, 'entities.urls.expanded_url':1,\n",
    "                                    'public_metrics':1})"
   ]
  },
  {
   "cell_type": "code",
   "execution_count": 5,
   "metadata": {},
   "outputs": [],
   "source": [
    "# Convert the data to a pandas dataframe\n",
    "search_results_df = pd.DataFrame(list(search_results))"
   ]
  },
  {
   "cell_type": "code",
   "execution_count": 6,
   "metadata": {},
   "outputs": [
    {
     "data": {
      "text/plain": [
       "2193"
      ]
     },
     "execution_count": 6,
     "metadata": {},
     "output_type": "execute_result"
    }
   ],
   "source": [
    "# How many tweets did we collect?\n",
    "len(search_results_df)"
   ]
  },
  {
   "cell_type": "code",
   "execution_count": 8,
   "metadata": {},
   "outputs": [
    {
     "data": {
      "text/html": [
       "<div>\n",
       "<style scoped>\n",
       "    .dataframe tbody tr th:only-of-type {\n",
       "        vertical-align: middle;\n",
       "    }\n",
       "\n",
       "    .dataframe tbody tr th {\n",
       "        vertical-align: top;\n",
       "    }\n",
       "\n",
       "    .dataframe thead th {\n",
       "        text-align: right;\n",
       "    }\n",
       "</style>\n",
       "<table border=\"1\" class=\"dataframe\">\n",
       "  <thead>\n",
       "    <tr style=\"text-align: right;\">\n",
       "      <th></th>\n",
       "      <th>_id</th>\n",
       "      <th>author_id</th>\n",
       "      <th>created_at</th>\n",
       "      <th>entities</th>\n",
       "      <th>public_metrics</th>\n",
       "      <th>category</th>\n",
       "      <th>urls</th>\n",
       "      <th>domains</th>\n",
       "    </tr>\n",
       "  </thead>\n",
       "  <tbody>\n",
       "    <tr>\n",
       "      <td>0</td>\n",
       "      <td>5fee3fea88da48afa84f5653</td>\n",
       "      <td>1083771575348781056</td>\n",
       "      <td>2020-12-27T15:38:38.000Z</td>\n",
       "      <td>{'hashtags': [{'tag': 'GeorgiansVoteRevWarnock...</td>\n",
       "      <td>{'like_count': 0, 'quote_count': 0, 'reply_cou...</td>\n",
       "      <td>demcast_ecosystem</td>\n",
       "      <td>[]</td>\n",
       "      <td>[]</td>\n",
       "    </tr>\n",
       "    <tr>\n",
       "      <td>1</td>\n",
       "      <td>5fee3fe088da48afa84f54b5</td>\n",
       "      <td>1254891029179830272</td>\n",
       "      <td>2020-12-29T18:48:02.000Z</td>\n",
       "      <td>{'hashtags': [{'tag': 'VoteOssoffWarnock'}, {'...</td>\n",
       "      <td>{'like_count': 3, 'quote_count': 1, 'reply_cou...</td>\n",
       "      <td>demcast_ecosystem</td>\n",
       "      <td>[]</td>\n",
       "      <td>[]</td>\n",
       "    </tr>\n",
       "  </tbody>\n",
       "</table>\n",
       "</div>"
      ],
      "text/plain": [
       "                        _id            author_id                created_at  \\\n",
       "0  5fee3fea88da48afa84f5653  1083771575348781056  2020-12-27T15:38:38.000Z   \n",
       "1  5fee3fe088da48afa84f54b5  1254891029179830272  2020-12-29T18:48:02.000Z   \n",
       "\n",
       "                                            entities  \\\n",
       "0  {'hashtags': [{'tag': 'GeorgiansVoteRevWarnock...   \n",
       "1  {'hashtags': [{'tag': 'VoteOssoffWarnock'}, {'...   \n",
       "\n",
       "                                      public_metrics           category urls  \\\n",
       "0  {'like_count': 0, 'quote_count': 0, 'reply_cou...  demcast_ecosystem   []   \n",
       "1  {'like_count': 3, 'quote_count': 1, 'reply_cou...  demcast_ecosystem   []   \n",
       "\n",
       "  domains  \n",
       "0      []  \n",
       "1      []  "
      ]
     },
     "execution_count": 8,
     "metadata": {},
     "output_type": "execute_result"
    }
   ],
   "source": [
    "# Unpack lists of URLs\n",
    "\n",
    "# Initialize empty lists of URLs and domains\n",
    "search_results_df['urls'] = pd.np.empty((len(search_results_df),0)).tolist()\n",
    "search_results_df['domains'] = pd.np.empty((len(search_results_df),0)).tolist()\n",
    "\n",
    "search_results_df.head(2)\n"
   ]
  },
  {
   "cell_type": "code",
   "execution_count": 9,
   "metadata": {},
   "outputs": [],
   "source": [
    "# Unpack the URLs into a single list\n",
    "for index, value in search_results_df['entities'].items():\n",
    "    for item in value['urls']:\n",
    "        search_results_df['urls'].iloc[index].append(item['expanded_url'])"
   ]
  },
  {
   "cell_type": "code",
   "execution_count": 10,
   "metadata": {},
   "outputs": [
    {
     "data": {
      "text/html": [
       "<div>\n",
       "<style scoped>\n",
       "    .dataframe tbody tr th:only-of-type {\n",
       "        vertical-align: middle;\n",
       "    }\n",
       "\n",
       "    .dataframe tbody tr th {\n",
       "        vertical-align: top;\n",
       "    }\n",
       "\n",
       "    .dataframe thead th {\n",
       "        text-align: right;\n",
       "    }\n",
       "</style>\n",
       "<table border=\"1\" class=\"dataframe\">\n",
       "  <thead>\n",
       "    <tr style=\"text-align: right;\">\n",
       "      <th></th>\n",
       "      <th>_id</th>\n",
       "      <th>author_id</th>\n",
       "      <th>created_at</th>\n",
       "      <th>entities</th>\n",
       "      <th>public_metrics</th>\n",
       "      <th>category</th>\n",
       "      <th>urls</th>\n",
       "      <th>domains</th>\n",
       "    </tr>\n",
       "  </thead>\n",
       "  <tbody>\n",
       "    <tr>\n",
       "      <td>2191</td>\n",
       "      <td>5fecb32d88da48afa84ed837</td>\n",
       "      <td>2402915880</td>\n",
       "      <td>2020-12-24T08:56:08.000Z</td>\n",
       "      <td>{'hashtags': [{'tag': 'ThankYou'}, {'tag': 'FB...</td>\n",
       "      <td>{'like_count': 4, 'quote_count': 0, 'reply_cou...</td>\n",
       "      <td>hashtag_search</td>\n",
       "      <td>[https://twitter.com/mjfree/status/13389266095...</td>\n",
       "      <td>[]</td>\n",
       "    </tr>\n",
       "    <tr>\n",
       "      <td>2192</td>\n",
       "      <td>5fecb24888da48afa84eb5f8</td>\n",
       "      <td>1225971763437330434</td>\n",
       "      <td>2020-12-30T15:03:26.000Z</td>\n",
       "      <td>{'hashtags': [{'tag': 'Warnock'}, {'tag': 'GAp...</td>\n",
       "      <td>{'like_count': 5, 'quote_count': 0, 'reply_cou...</td>\n",
       "      <td>hashtag_search</td>\n",
       "      <td>[https://app.speechifai.tech/s/pc7Ep3VjxfpxQxv...</td>\n",
       "      <td>[]</td>\n",
       "    </tr>\n",
       "  </tbody>\n",
       "</table>\n",
       "</div>"
      ],
      "text/plain": [
       "                           _id            author_id                created_at  \\\n",
       "2191  5fecb32d88da48afa84ed837           2402915880  2020-12-24T08:56:08.000Z   \n",
       "2192  5fecb24888da48afa84eb5f8  1225971763437330434  2020-12-30T15:03:26.000Z   \n",
       "\n",
       "                                               entities  \\\n",
       "2191  {'hashtags': [{'tag': 'ThankYou'}, {'tag': 'FB...   \n",
       "2192  {'hashtags': [{'tag': 'Warnock'}, {'tag': 'GAp...   \n",
       "\n",
       "                                         public_metrics        category  \\\n",
       "2191  {'like_count': 4, 'quote_count': 0, 'reply_cou...  hashtag_search   \n",
       "2192  {'like_count': 5, 'quote_count': 0, 'reply_cou...  hashtag_search   \n",
       "\n",
       "                                                   urls domains  \n",
       "2191  [https://twitter.com/mjfree/status/13389266095...      []  \n",
       "2192  [https://app.speechifai.tech/s/pc7Ep3VjxfpxQxv...      []  "
      ]
     },
     "execution_count": 10,
     "metadata": {},
     "output_type": "execute_result"
    }
   ],
   "source": [
    "# Inspect\n",
    "search_results_df.tail(2)"
   ]
  },
  {
   "cell_type": "code",
   "execution_count": 11,
   "metadata": {},
   "outputs": [],
   "source": [
    "# Use tldextract library to extract root domains\n",
    "for index, value in search_results_df['urls'].items():\n",
    "    domain_info = tldextract.extract(value[0])\n",
    "    search_results_df['domains'].iloc[index].append(domain_info.registered_domain)"
   ]
  },
  {
   "cell_type": "code",
   "execution_count": 12,
   "metadata": {},
   "outputs": [
    {
     "data": {
      "text/html": [
       "<div>\n",
       "<style scoped>\n",
       "    .dataframe tbody tr th:only-of-type {\n",
       "        vertical-align: middle;\n",
       "    }\n",
       "\n",
       "    .dataframe tbody tr th {\n",
       "        vertical-align: top;\n",
       "    }\n",
       "\n",
       "    .dataframe thead th {\n",
       "        text-align: right;\n",
       "    }\n",
       "</style>\n",
       "<table border=\"1\" class=\"dataframe\">\n",
       "  <thead>\n",
       "    <tr style=\"text-align: right;\">\n",
       "      <th></th>\n",
       "      <th>_id</th>\n",
       "      <th>author_id</th>\n",
       "      <th>created_at</th>\n",
       "      <th>entities</th>\n",
       "      <th>public_metrics</th>\n",
       "      <th>category</th>\n",
       "      <th>urls</th>\n",
       "      <th>domains</th>\n",
       "    </tr>\n",
       "  </thead>\n",
       "  <tbody>\n",
       "    <tr>\n",
       "      <td>2191</td>\n",
       "      <td>5fecb32d88da48afa84ed837</td>\n",
       "      <td>2402915880</td>\n",
       "      <td>2020-12-24T08:56:08.000Z</td>\n",
       "      <td>{'hashtags': [{'tag': 'ThankYou'}, {'tag': 'FB...</td>\n",
       "      <td>{'like_count': 4, 'quote_count': 0, 'reply_cou...</td>\n",
       "      <td>hashtag_search</td>\n",
       "      <td>[https://twitter.com/mjfree/status/13389266095...</td>\n",
       "      <td>[twitter.com]</td>\n",
       "    </tr>\n",
       "    <tr>\n",
       "      <td>2192</td>\n",
       "      <td>5fecb24888da48afa84eb5f8</td>\n",
       "      <td>1225971763437330434</td>\n",
       "      <td>2020-12-30T15:03:26.000Z</td>\n",
       "      <td>{'hashtags': [{'tag': 'Warnock'}, {'tag': 'GAp...</td>\n",
       "      <td>{'like_count': 5, 'quote_count': 0, 'reply_cou...</td>\n",
       "      <td>hashtag_search</td>\n",
       "      <td>[https://app.speechifai.tech/s/pc7Ep3VjxfpxQxv...</td>\n",
       "      <td>[speechifai.tech]</td>\n",
       "    </tr>\n",
       "  </tbody>\n",
       "</table>\n",
       "</div>"
      ],
      "text/plain": [
       "                           _id            author_id                created_at  \\\n",
       "2191  5fecb32d88da48afa84ed837           2402915880  2020-12-24T08:56:08.000Z   \n",
       "2192  5fecb24888da48afa84eb5f8  1225971763437330434  2020-12-30T15:03:26.000Z   \n",
       "\n",
       "                                               entities  \\\n",
       "2191  {'hashtags': [{'tag': 'ThankYou'}, {'tag': 'FB...   \n",
       "2192  {'hashtags': [{'tag': 'Warnock'}, {'tag': 'GAp...   \n",
       "\n",
       "                                         public_metrics        category  \\\n",
       "2191  {'like_count': 4, 'quote_count': 0, 'reply_cou...  hashtag_search   \n",
       "2192  {'like_count': 5, 'quote_count': 0, 'reply_cou...  hashtag_search   \n",
       "\n",
       "                                                   urls            domains  \n",
       "2191  [https://twitter.com/mjfree/status/13389266095...      [twitter.com]  \n",
       "2192  [https://app.speechifai.tech/s/pc7Ep3VjxfpxQxv...  [speechifai.tech]  "
      ]
     },
     "execution_count": 12,
     "metadata": {},
     "output_type": "execute_result"
    }
   ],
   "source": [
    "# Inspect\n",
    "search_results_df.tail(2)"
   ]
  },
  {
   "cell_type": "code",
   "execution_count": 13,
   "metadata": {},
   "outputs": [
    {
     "data": {
      "text/plain": [
       "[('twitter.com', 1453),\n",
       " ('demcastusa.com', 445),\n",
       " ('actblue.com', 35),\n",
       " ('Iwillvote.com', 30),\n",
       " ('mobilize.us', 29),\n",
       " ('youtube.com', 22),\n",
       " ('tiktok.com', 20),\n",
       " ('nytimes.com', 11),\n",
       " ('tinyurl.com', 11),\n",
       " ('cnn.com', 7),\n",
       " ('apple.news', 6),\n",
       " ('ajc.com', 5),\n",
       " ('iwillvote.com', 5),\n",
       " ('paper.li', 4),\n",
       " ('gaballotdropbox.org', 4),\n",
       " ('washingtonpost.com', 4),\n",
       " ('speechifai.tech', 4),\n",
       " ('georgiademocrat.org', 4),\n",
       " ('electjon.com', 4),\n",
       " ('motherjones.com', 3)]"
      ]
     },
     "execution_count": 13,
     "metadata": {},
     "output_type": "execute_result"
    }
   ],
   "source": [
    "# Analysis one: count the most common domains\n",
    "domains_list = search_results_df['domains'].to_list()\n",
    "domains_list = [y for x in domains_list for y in x]\n",
    "top_domains = dict(Counter(domains_list).items())\n",
    "top_domains = sorted(top_domains.items(), key=lambda x: x[1], reverse=True)\n",
    "top_domains[0:20]"
   ]
  },
  {
   "cell_type": "code",
   "execution_count": 14,
   "metadata": {},
   "outputs": [
    {
     "data": {
      "text/plain": [
       "[('http://Iwillvote.com', 26),\n",
       " ('http://GASenate.com', 22),\n",
       " ('https://share.demcastusa.com/s/5l5GknosPu23FEHSVVYSdA', 16),\n",
       " ('https://share.demcastusa.com/s/0ZZgguMmx90um2fTJIKF0A', 16),\n",
       " ('https://twitter.com/NickKnudsenUS/status/1341035662229704706/video/1', 16),\n",
       " ('https://share.demcastusa.com/s/HZIQZYScpcCUWR_W8xc7Sg', 16),\n",
       " ('https://share.demcastusa.com/s/Vb5bbYuGNITdav13cbd4VA', 15),\n",
       " ('https://share.demcastusa.com/s/53iCQsgKm-x_g56WvaZM4A', 15),\n",
       " ('https://share.demcastusa.com/s/2pkamYvPylZz_ctlKF-tqg', 15),\n",
       " ('https://share.demcastusa.com/s/fdBSQeXc2axnOs2QYTK5zQ', 14),\n",
       " ('https://share.demcastusa.com/s/Ic8WHm6L4KeU8DmgRsJZJA', 14),\n",
       " ('https://share.demcastusa.com/s/NRScFKY8CJz7RMq2H-QrBA', 13),\n",
       " ('https://share.demcastusa.com/s/FTKFJti4UKA05P5g5-xzcg', 13),\n",
       " ('https://share.demcastusa.com/s/IOu9DNuzqBIA4t5w52NwAA', 13),\n",
       " ('https://share.demcastusa.com/s/Vrbobj02o_zLHRgjZxlFRA', 12),\n",
       " ('https://share.demcastusa.com/s/Fdmfg1Agwr4wh0r-meRtIQ', 12),\n",
       " ('https://share.demcastusa.com/s/pflSpxPXdJB7Ut-70SybRg', 12),\n",
       " ('https://share.demcastusa.com/s/mV6_UQPoHRgmjCjSz8hw1A', 12),\n",
       " ('https://share.demcastusa.com/s/ApgS59ixFqB4uJYezdPd0w', 12),\n",
       " ('https://share.demcastusa.com/s/-VFjS611-hJF6uP57U9nAQ', 12)]"
      ]
     },
     "execution_count": 14,
     "metadata": {},
     "output_type": "execute_result"
    }
   ],
   "source": [
    "# Analysis two: identify the most common individual links\n",
    "url_list = search_results_df['urls'].to_list()\n",
    "url_list = [y for x in url_list for y in x]\n",
    "top_urls = dict(Counter(url_list).items())\n",
    "top_urls = sorted(top_urls.items(), key=lambda x: x[1], reverse=True)\n",
    "top_urls[0:20]"
   ]
  },
  {
   "cell_type": "code",
   "execution_count": null,
   "metadata": {},
   "outputs": [],
   "source": [
    "# People are not sharing much off-platform, apart from YouTube\n",
    "# TODO: count percentage of tweets (and users) with off-platform sharing"
   ]
  }
 ],
 "metadata": {
  "kernelspec": {
   "display_name": "Python 3",
   "language": "python",
   "name": "python3"
  },
  "language_info": {
   "codemirror_mode": {
    "name": "ipython",
    "version": 3
   },
   "file_extension": ".py",
   "mimetype": "text/x-python",
   "name": "python",
   "nbconvert_exporter": "python",
   "pygments_lexer": "ipython3",
   "version": "3.7.4"
  }
 },
 "nbformat": 4,
 "nbformat_minor": 2
}
